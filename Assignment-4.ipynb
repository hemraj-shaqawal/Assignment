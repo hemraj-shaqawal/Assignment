{
 "cells": [
  {
   "cell_type": "markdown",
   "id": "ce173f7c",
   "metadata": {},
   "source": [
    "## What exactly is []?"
   ]
  },
  {
   "cell_type": "markdown",
   "id": "761b1e8c",
   "metadata": {},
   "source": [
    "[] will represent of empty list/array"
   ]
  },
  {
   "cell_type": "markdown",
   "id": "5c67af8b",
   "metadata": {},
   "source": [
    "## 2. In a list of values stored in a variable called spam, how would you assign the value &#39;hello&#39; as the\n",
    "third value? (Assume [2, 4, 6, 8, 10] are in spam.)"
   ]
  },
  {
   "cell_type": "code",
   "execution_count": 6,
   "id": "6afc8a01",
   "metadata": {},
   "outputs": [
    {
     "name": "stdout",
     "output_type": "stream",
     "text": [
      "[2, 4, 'hello', 6, 8, 10]\n"
     ]
    }
   ],
   "source": [
    "spam = [2, 4, 6, 8, 10]\n",
    "spam.insert(2,\"hello\")\n",
    "print(spam)"
   ]
  },
  {
   "cell_type": "code",
   "execution_count": 10,
   "id": "93e2082c",
   "metadata": {},
   "outputs": [],
   "source": [
    "spam = ['a','b','c','d']"
   ]
  },
  {
   "cell_type": "code",
   "execution_count": 11,
   "id": "0e7f2776",
   "metadata": {},
   "outputs": [
    {
     "name": "stdout",
     "output_type": "stream",
     "text": [
      "d\n"
     ]
    }
   ],
   "source": [
    "print(spam[int(int('3' * 2) / 11)])"
   ]
  },
  {
   "cell_type": "markdown",
   "id": "3ebebcee",
   "metadata": {},
   "source": [
    "O/P=> d"
   ]
  },
  {
   "cell_type": "code",
   "execution_count": 12,
   "id": "cc9da182",
   "metadata": {},
   "outputs": [
    {
     "data": {
      "text/plain": [
       "'d'"
      ]
     },
     "execution_count": 12,
     "metadata": {},
     "output_type": "execute_result"
    }
   ],
   "source": [
    "spam[-1]"
   ]
  },
  {
   "cell_type": "code",
   "execution_count": 13,
   "id": "5b25791f",
   "metadata": {},
   "outputs": [
    {
     "data": {
      "text/plain": [
       "['a', 'b']"
      ]
     },
     "execution_count": 13,
     "metadata": {},
     "output_type": "execute_result"
    }
   ],
   "source": [
    "spam[:2]"
   ]
  },
  {
   "cell_type": "code",
   "execution_count": null,
   "id": "d7ac0915",
   "metadata": {},
   "outputs": [],
   "source": []
  },
  {
   "cell_type": "code",
   "execution_count": 15,
   "id": "cfc93707",
   "metadata": {},
   "outputs": [],
   "source": [
    "bacon = [3.14, 'cat', 11, 'cat', True]"
   ]
  },
  {
   "cell_type": "code",
   "execution_count": 16,
   "id": "56cf80fe",
   "metadata": {},
   "outputs": [
    {
     "data": {
      "text/plain": [
       "1"
      ]
     },
     "execution_count": 16,
     "metadata": {},
     "output_type": "execute_result"
    }
   ],
   "source": [
    "bacon.index('cat')"
   ]
  },
  {
   "cell_type": "code",
   "execution_count": 17,
   "id": "9bfb4072",
   "metadata": {},
   "outputs": [],
   "source": [
    "bacon.append(99)"
   ]
  },
  {
   "cell_type": "code",
   "execution_count": 18,
   "id": "7ca34b73",
   "metadata": {},
   "outputs": [
    {
     "data": {
      "text/plain": [
       "[3.14, 'cat', 11, 'cat', True, 99]"
      ]
     },
     "execution_count": 18,
     "metadata": {},
     "output_type": "execute_result"
    }
   ],
   "source": [
    "bacon"
   ]
  },
  {
   "cell_type": "code",
   "execution_count": 19,
   "id": "4bb65ca2",
   "metadata": {},
   "outputs": [],
   "source": [
    "bacon.remove('cat')"
   ]
  },
  {
   "cell_type": "code",
   "execution_count": 20,
   "id": "25edaf64",
   "metadata": {},
   "outputs": [
    {
     "data": {
      "text/plain": [
       "[3.14, 11, 'cat', True, 99]"
      ]
     },
     "execution_count": 20,
     "metadata": {},
     "output_type": "execute_result"
    }
   ],
   "source": [
    "bacon"
   ]
  },
  {
   "cell_type": "markdown",
   "id": "4bd82e9e",
   "metadata": {},
   "source": [
    "## 9. What are the list concatenation and list replication operators?"
   ]
  },
  {
   "cell_type": "markdown",
   "id": "4f69c25a",
   "metadata": {},
   "source": [
    "list concatenation => list concatenation stand for if we want to merge to list and try to create a one single list out of it.\n",
    "\n",
    "list replication => with that we are trying to cretae one single list with repetation of it's element with n number of time as we want.\n"
   ]
  },
  {
   "cell_type": "code",
   "execution_count": 23,
   "id": "0de8fde1",
   "metadata": {},
   "outputs": [
    {
     "data": {
      "text/plain": [
       "[34, 234, 25, 345, 234, 345, 56, 467]"
      ]
     },
     "execution_count": 23,
     "metadata": {},
     "output_type": "execute_result"
    }
   ],
   "source": [
    "a = [34,234,25,345]\n",
    "b = [234,345,56,467]\n",
    "a = a + b\n",
    "a"
   ]
  },
  {
   "cell_type": "code",
   "execution_count": 26,
   "id": "e3097128",
   "metadata": {},
   "outputs": [
    {
     "data": {
      "text/plain": [
       "[134, 23, 245, 356, 45, 134, 23, 245, 356, 45, 134, 23, 245, 356, 45]"
      ]
     },
     "execution_count": 26,
     "metadata": {},
     "output_type": "execute_result"
    }
   ],
   "source": [
    "span = [134,23,245,356,45]\n",
    "span*3"
   ]
  },
  {
   "cell_type": "markdown",
   "id": "dcc9704a",
   "metadata": {},
   "source": [
    "## 10. What is difference between the list methods append() and insert()?"
   ]
  },
  {
   "cell_type": "markdown",
   "id": "076db8aa",
   "metadata": {},
   "source": [
    "append() => it will append value at the last of list/String.\n",
    "\n",
    "insert() => it will insert a value at specific position."
   ]
  },
  {
   "cell_type": "markdown",
   "id": "57afb8b6",
   "metadata": {},
   "source": [
    "## 11. What are the two methods for removing items from a list?"
   ]
  },
  {
   "cell_type": "markdown",
   "id": "d8947f06",
   "metadata": {},
   "source": [
    "1. pop\n",
    "2. remove"
   ]
  },
  {
   "cell_type": "code",
   "execution_count": 1,
   "id": "72d66016",
   "metadata": {},
   "outputs": [],
   "source": [
    "l = [123,123,134,234,345,3564564,7567]"
   ]
  },
  {
   "cell_type": "code",
   "execution_count": 3,
   "id": "dfb1b498",
   "metadata": {},
   "outputs": [
    {
     "data": {
      "text/plain": [
       "134"
      ]
     },
     "execution_count": 3,
     "metadata": {},
     "output_type": "execute_result"
    }
   ],
   "source": [
    "l.pop(2)"
   ]
  },
  {
   "cell_type": "code",
   "execution_count": 4,
   "id": "40e44c69",
   "metadata": {},
   "outputs": [
    {
     "data": {
      "text/plain": [
       "[123, 123, 234, 345, 3564564, 7567]"
      ]
     },
     "execution_count": 4,
     "metadata": {},
     "output_type": "execute_result"
    }
   ],
   "source": [
    "l"
   ]
  },
  {
   "cell_type": "code",
   "execution_count": 5,
   "id": "43f01093",
   "metadata": {},
   "outputs": [],
   "source": [
    "l.remove(123)"
   ]
  },
  {
   "cell_type": "code",
   "execution_count": 6,
   "id": "37074434",
   "metadata": {},
   "outputs": [
    {
     "data": {
      "text/plain": [
       "[123, 234, 345, 3564564, 7567]"
      ]
     },
     "execution_count": 6,
     "metadata": {},
     "output_type": "execute_result"
    }
   ],
   "source": [
    "l"
   ]
  },
  {
   "cell_type": "markdown",
   "id": "48f0930b",
   "metadata": {},
   "source": [
    "## 12. Describe how list values and string values are identical."
   ]
  },
  {
   "cell_type": "markdown",
   "id": "e49507c0",
   "metadata": {},
   "source": [
    "1. if list contant string value the there data type is identical to string\n",
    "2. we can itrate both string and list "
   ]
  },
  {
   "cell_type": "markdown",
   "id": "d14ef481",
   "metadata": {},
   "source": [
    "## 13. What's the difference between tuples and lists?"
   ]
  },
  {
   "cell_type": "markdown",
   "id": "518c4856",
   "metadata": {},
   "source": [
    "1. both have diffrent syntax, list will be denauted by [], where tuple is ()\n",
    "2. tuple have nature of static where list is have non static nature.\n",
    "3. tuple is immutable, where list is mutable\n",
    "4. we can't change length tuple after decleration, where with list we can change length of list by adding/removing items"
   ]
  },
  {
   "cell_type": "markdown",
   "id": "caef2d33",
   "metadata": {},
   "source": [
    "## 14. How do you type a tuple value that only contains the integer 42?"
   ]
  },
  {
   "cell_type": "code",
   "execution_count": 14,
   "id": "96ab182f",
   "metadata": {},
   "outputs": [],
   "source": [
    "tp = (42,)"
   ]
  },
  {
   "cell_type": "code",
   "execution_count": 15,
   "id": "4098fb6e",
   "metadata": {},
   "outputs": [
    {
     "data": {
      "text/plain": [
       "tuple"
      ]
     },
     "execution_count": 15,
     "metadata": {},
     "output_type": "execute_result"
    }
   ],
   "source": [
    "type(tp)"
   ]
  },
  {
   "cell_type": "markdown",
   "id": "ba5a3b6c",
   "metadata": {},
   "source": [
    "## 15. How do you get a list value&#39;s tuple form? How do you get a tuple value&#39;s list form?"
   ]
  },
  {
   "cell_type": "code",
   "execution_count": 19,
   "id": "5e105105",
   "metadata": {},
   "outputs": [
    {
     "name": "stdout",
     "output_type": "stream",
     "text": [
      "[34, 245, 34, 356, 456, 4, 47567567, 5, 58678]\n",
      "(34, 245, 34, 356, 456, 4, 47567567, 5, 58678)\n"
     ]
    }
   ],
   "source": [
    "tp = (34,245,34,356,456,4,47567567,5,58678)\n",
    "\n",
    "## tuple to list\n",
    "lt = list(tp)\n",
    "print(lt)\n",
    "\n",
    "## list to tuple\n",
    "tp1 = tuple(lt)\n",
    "print(tp1)"
   ]
  },
  {
   "cell_type": "markdown",
   "id": "9c5e17db",
   "metadata": {},
   "source": [
    "## 16. Variables that &quot;contain&quot; list values are not necessarily lists themselves. Instead, what do they contain?"
   ]
  },
  {
   "cell_type": "markdown",
   "id": "0ae9ecce",
   "metadata": {},
   "source": [
    "not able to get questions"
   ]
  },
  {
   "cell_type": "markdown",
   "id": "b7f53156",
   "metadata": {},
   "source": [
    "## 17. How do you distinguish between copy.copy() and copy.deepcopy()?"
   ]
  },
  {
   "cell_type": "markdown",
   "id": "03914137",
   "metadata": {},
   "source": [
    "\n",
    "                                        Normal Assignment(=)   Python shallow copy()   Python deepcopy()\n",
    "                                        \n",
    "Clones an object                        YES                    YES                     YES\n",
    "\n",
    "Creates new object                      NO                     YES                     YES\n",
    "\n",
    "Top level data stored in memory         NO                     YES                     YES\n",
    "\n",
    "Nested level data stored in memory      NO                     NO                      YES"
   ]
  },
  {
   "cell_type": "code",
   "execution_count": null,
   "id": "08db2cb3",
   "metadata": {},
   "outputs": [],
   "source": []
  }
 ],
 "metadata": {
  "kernelspec": {
   "display_name": "Python 3 (ipykernel)",
   "language": "python",
   "name": "python3"
  },
  "language_info": {
   "codemirror_mode": {
    "name": "ipython",
    "version": 3
   },
   "file_extension": ".py",
   "mimetype": "text/x-python",
   "name": "python",
   "nbconvert_exporter": "python",
   "pygments_lexer": "ipython3",
   "version": "3.9.7"
  }
 },
 "nbformat": 4,
 "nbformat_minor": 5
}
