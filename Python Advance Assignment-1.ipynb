{
 "cells": [
  {
   "cell_type": "markdown",
   "id": "e854763d",
   "metadata": {},
   "source": [
    "## Q1. What is the purpose of Python&#39;s OOP?"
   ]
  },
  {
   "cell_type": "markdown",
   "id": "8f54668a",
   "metadata": {},
   "source": [
    "OOP's stads for Object Oriented Programming, uisng this we can write code in form class and object, also ot will help to design a code in moduler way. "
   ]
  },
  {
   "cell_type": "markdown",
   "id": "418753c9",
   "metadata": {},
   "source": [
    "## Q2. Where does an inheritance search look for an attribute?"
   ]
  },
  {
   "cell_type": "markdown",
   "id": "5c27be57",
   "metadata": {},
   "source": [
    "it will look for it's super class in class parenthesis for ex:\n",
    "\n",
    "\n",
    "\n",
    "class test(test_super):\n",
    "\n",
    "    pass"
   ]
  },
  {
   "cell_type": "markdown",
   "id": "dcbcc4fb",
   "metadata": {},
   "source": [
    "## Q3. How do you distinguish between a class object and an instance object?"
   ]
  },
  {
   "cell_type": "markdown",
   "id": "a20cbdc2",
   "metadata": {},
   "source": [
    "class object you can reger to static variable, it we intialize by the time of class load, you can access them with class name\n",
    "\n",
    "whereever instance object will be accessable with class object, based on each object it make sperate copy of it based on it's memory allocations\n",
    "\n",
    "\n",
    "\n",
    "example:\n",
    "\n",
    "class Person:\n",
    "    # Class Obj\n",
    "    no_eye = 2\n",
    "    leg = 2\n",
    "    \n",
    "    def set_Pname(self,name):\n",
    "        # Class instance Variable\n",
    "          self.name = name\n",
    "    "
   ]
  },
  {
   "cell_type": "markdown",
   "id": "acf8ec9b",
   "metadata": {},
   "source": [
    "## Q4. What makes the first argument in a class’s method function special?"
   ]
  },
  {
   "cell_type": "markdown",
   "id": "54987847",
   "metadata": {},
   "source": [
    "self is first argument, which will have refrence of class, so we can access to it's variables"
   ]
  },
  {
   "cell_type": "markdown",
   "id": "c41f8d2a",
   "metadata": {},
   "source": [
    "## Q5. What is the purpose of the __init__ method?"
   ]
  },
  {
   "cell_type": "markdown",
   "id": "daed5d2f",
   "metadata": {},
   "source": [
    "class Test:\n",
    "\n",
    "    def __init__(self,name):\n",
    "        self.name = name\n",
    "\n",
    "init method is custructor of class, it will be class whenever we create a object of it. it will use to assign a value of class instance at the time of object creation\n",
    "\n",
    "\n",
    "obj = Test()\n"
   ]
  },
  {
   "cell_type": "markdown",
   "id": "ae8f25e9",
   "metadata": {},
   "source": [
    "## Q6. What is the process for creating a class instance?"
   ]
  },
  {
   "cell_type": "code",
   "execution_count": 8,
   "id": "44a0815c",
   "metadata": {},
   "outputs": [],
   "source": [
    "class Test:\n",
    "    \n",
    "    def __inti__(self):\n",
    "        pass\n",
    "    \n",
    "    def generater(self,name):\n",
    "        self.name = name\n",
    "        \n",
    "        \n",
    "t1 = Test();\n",
    "t1.generater(\"hemraj\")"
   ]
  },
  {
   "cell_type": "markdown",
   "id": "a2e5ae43",
   "metadata": {},
   "source": [
    "## Q7. What is the process for creating a class?"
   ]
  },
  {
   "cell_type": "code",
   "execution_count": 10,
   "id": "b7b711a7",
   "metadata": {},
   "outputs": [],
   "source": [
    "class Test:\n",
    "    \n",
    "    def __inti__(self):\n",
    "        pass\n",
    "    \n",
    "    def generater(self,name):\n",
    "        self.name = name\n",
    "t2 = Test();\n",
    "t2.generater(\"hemraj\")"
   ]
  },
  {
   "cell_type": "code",
   "execution_count": null,
   "id": "1a0394d8",
   "metadata": {},
   "outputs": [],
   "source": []
  },
  {
   "cell_type": "markdown",
   "id": "2adeab7d",
   "metadata": {},
   "source": [
    "## Q8. How would you define the superclasses of a class?"
   ]
  },
  {
   "cell_type": "code",
   "execution_count": 18,
   "id": "4f60ab4b",
   "metadata": {},
   "outputs": [
    {
     "data": {
      "text/plain": [
       "'hemraj'"
      ]
     },
     "execution_count": 18,
     "metadata": {},
     "output_type": "execute_result"
    }
   ],
   "source": [
    "class Person:\n",
    "    def __init__(self,fname,lname):\n",
    "        self.fname = fname\n",
    "        self.lname = lname\n",
    "\n",
    "class Employee(Person):\n",
    "    def __init__(self,fname,lname,empID,salery):\n",
    "        Person.__init__(self,fname,lname)\n",
    "        self.empID = empID\n",
    "        self.salery = salery\n",
    "        \n",
    "emp = Employee(\"hemraj\",\"Shakya\",\"23134\",\"234234234234234\")\n",
    "emp.fname"
   ]
  },
  {
   "cell_type": "code",
   "execution_count": null,
   "id": "2f80b056",
   "metadata": {},
   "outputs": [],
   "source": []
  },
  {
   "cell_type": "code",
   "execution_count": null,
   "id": "cb1e8993",
   "metadata": {},
   "outputs": [],
   "source": []
  },
  {
   "cell_type": "code",
   "execution_count": null,
   "id": "0cbb015a",
   "metadata": {},
   "outputs": [],
   "source": []
  }
 ],
 "metadata": {
  "kernelspec": {
   "display_name": "Python 3 (ipykernel)",
   "language": "python",
   "name": "python3"
  },
  "language_info": {
   "codemirror_mode": {
    "name": "ipython",
    "version": 3
   },
   "file_extension": ".py",
   "mimetype": "text/x-python",
   "name": "python",
   "nbconvert_exporter": "python",
   "pygments_lexer": "ipython3",
   "version": "3.9.7"
  }
 },
 "nbformat": 4,
 "nbformat_minor": 5
}
