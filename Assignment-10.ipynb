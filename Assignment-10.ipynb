{
 "cells": [
  {
   "cell_type": "markdown",
   "id": "0225523b",
   "metadata": {},
   "source": [
    "## 1. How do you distinguish between shutil.copy() and shutil.copytree()?"
   ]
  },
  {
   "cell_type": "markdown",
   "id": "05bd808c",
   "metadata": {},
   "source": [
    "shutil.copy() ==> Will be use to copy a indivisdual file form source to distonation\n",
    "\n",
    "shutil.copytree() => it will copy complete dir and it's child dir form source to destination."
   ]
  },
  {
   "cell_type": "code",
   "execution_count": 2,
   "id": "0e30ea50",
   "metadata": {},
   "outputs": [],
   "source": [
    "import os\n",
    "import shutil"
   ]
  },
  {
   "cell_type": "markdown",
   "id": "6e14a13f",
   "metadata": {},
   "source": [
    "shutil.copy(source,destonation)\n",
    "\n",
    "shutil.copytree(source,destonation)"
   ]
  },
  {
   "cell_type": "markdown",
   "id": "88d1a1f3",
   "metadata": {},
   "source": [
    "## 2. What function is used to rename files??"
   ]
  },
  {
   "cell_type": "markdown",
   "id": "362c5685",
   "metadata": {},
   "source": [
    "1. os.rename(s_filename,d_filename)\n",
    "2. shutil.move(s_filename,d_filename)"
   ]
  },
  {
   "cell_type": "markdown",
   "id": "72136207",
   "metadata": {},
   "source": [
    "## 3. What is the difference between the delete functions in the send2trash and shutil modules?"
   ]
  },
  {
   "cell_type": "markdown",
   "id": "fc065e9b",
   "metadata": {},
   "source": [
    "## could you please provide me Answer"
   ]
  },
  {
   "cell_type": "markdown",
   "id": "1108e847",
   "metadata": {},
   "source": [
    "## 4.ZipFile objects have a close() method just like File objects’ close() method. What ZipFile method is equivalent to File objects’ open() method?"
   ]
  },
  {
   "cell_type": "markdown",
   "id": "5b962fc9",
   "metadata": {},
   "source": [
    "ZipFile is method wich is equivalent to open method\n",
    "\n",
    "with ZipFile(file_name, 'r') as zip:"
   ]
  },
  {
   "cell_type": "markdown",
   "id": "8be68ba4",
   "metadata": {},
   "source": [
    "## 5. Create a programme that searches a folder tree for files with a certain file extension (such as .pdf or .jpg). Copy these files from whatever location they are in to a new folder."
   ]
  },
  {
   "cell_type": "code",
   "execution_count": 46,
   "id": "5e8f9155",
   "metadata": {},
   "outputs": [],
   "source": [
    "p_dir = \"D:\\\\Python_Project\"\n",
    "file_paths = []\n",
    "for folder, subfolders, files in os.walk(p_dir):\n",
    "        for filename in files:\n",
    "                if \".png\" in filename or \".pdf\" in filename:\n",
    "                    filepath = os.path.join(folder,filename)\n",
    "                    if os.path.exists(filepath):\n",
    "                        file_paths.append(filepath)\n",
    "                        \n",
    "for i in file_paths:\n",
    "    shutil.copy(i,\"D:\\Python_Project\\CopyFilesHere\")\n"
   ]
  },
  {
   "cell_type": "code",
   "execution_count": null,
   "id": "1fcb21df",
   "metadata": {},
   "outputs": [],
   "source": []
  },
  {
   "cell_type": "code",
   "execution_count": null,
   "id": "3e161b75",
   "metadata": {},
   "outputs": [],
   "source": []
  }
 ],
 "metadata": {
  "kernelspec": {
   "display_name": "Python 3 (ipykernel)",
   "language": "python",
   "name": "python3"
  },
  "language_info": {
   "codemirror_mode": {
    "name": "ipython",
    "version": 3
   },
   "file_extension": ".py",
   "mimetype": "text/x-python",
   "name": "python",
   "nbconvert_exporter": "python",
   "pygments_lexer": "ipython3",
   "version": "3.9.7"
  }
 },
 "nbformat": 4,
 "nbformat_minor": 5
}
