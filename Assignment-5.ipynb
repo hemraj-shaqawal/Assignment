{
 "cells": [
  {
   "cell_type": "markdown",
   "id": "9fe85399",
   "metadata": {},
   "source": [
    "## 1. What does an empty dictionary's code look like?"
   ]
  },
  {
   "cell_type": "code",
   "execution_count": 1,
   "id": "ed43abbd",
   "metadata": {},
   "outputs": [
    {
     "name": "stdout",
     "output_type": "stream",
     "text": [
      "<class 'dict'>\n"
     ]
    }
   ],
   "source": [
    "spam = {}\n",
    "print(type(spam))"
   ]
  },
  {
   "cell_type": "markdown",
   "id": "48769f29",
   "metadata": {},
   "source": [
    "## 2. What is the value of a dictionary value with the key &#39;foo&#39; and the value 42?"
   ]
  },
  {
   "cell_type": "code",
   "execution_count": 5,
   "id": "91591cf0",
   "metadata": {},
   "outputs": [
    {
     "data": {
      "text/plain": [
       "42"
      ]
     },
     "execution_count": 5,
     "metadata": {},
     "output_type": "execute_result"
    }
   ],
   "source": [
    "spam = {\"foo\":42}\n",
    "spam[\"foo\"]"
   ]
  },
  {
   "cell_type": "markdown",
   "id": "fa2af787",
   "metadata": {},
   "source": [
    "## 3. What is the most significant distinction between a dictionary and a list?"
   ]
  },
  {
   "cell_type": "markdown",
   "id": "a0a46aed",
   "metadata": {},
   "source": [
    "Ans: dictionary will store data bases on key, value pair, thereby in list, it will store a heterogeneous data based on indexs."
   ]
  },
  {
   "cell_type": "markdown",
   "id": "57f4b6eb",
   "metadata": {},
   "source": [
    "## 4. What happens if you try to access spam['foo'] if spam is {'bar': 100}?"
   ]
  },
  {
   "cell_type": "code",
   "execution_count": 26,
   "id": "721c810a",
   "metadata": {},
   "outputs": [],
   "source": [
    "spam = {'bar': 100,'cat':'afaef'}"
   ]
  },
  {
   "cell_type": "code",
   "execution_count": 38,
   "id": "2a62ff4b",
   "metadata": {},
   "outputs": [
    {
     "ename": "KeyError",
     "evalue": "'foo'",
     "output_type": "error",
     "traceback": [
      "\u001b[1;31m---------------------------------------------------------------------------\u001b[0m",
      "\u001b[1;31mKeyError\u001b[0m                                  Traceback (most recent call last)",
      "\u001b[1;32mC:\\Users\\HEMRAJ~1\\AppData\\Local\\Temp/ipykernel_34108/3999281786.py\u001b[0m in \u001b[0;36m<module>\u001b[1;34m\u001b[0m\n\u001b[1;32m----> 1\u001b[1;33m \u001b[0mspam\u001b[0m\u001b[1;33m[\u001b[0m\u001b[1;34m'foo'\u001b[0m\u001b[1;33m]\u001b[0m\u001b[1;33m\u001b[0m\u001b[1;33m\u001b[0m\u001b[0m\n\u001b[0m",
      "\u001b[1;31mKeyError\u001b[0m: 'foo'"
     ]
    }
   ],
   "source": [
    "spam['foo']"
   ]
  },
  {
   "cell_type": "markdown",
   "id": "1eebf728",
   "metadata": {},
   "source": [
    "hence it will give keyError"
   ]
  },
  {
   "cell_type": "markdown",
   "id": "49f3cac1",
   "metadata": {},
   "source": [
    "## 5. If a dictionary is stored in spam, what is the difference between the expressions &#39;cat&#39; in spam and &#39;cat&#39; in spam.keys()?"
   ]
  },
  {
   "cell_type": "code",
   "execution_count": 32,
   "id": "fabed92e",
   "metadata": {},
   "outputs": [
    {
     "data": {
      "text/plain": [
       "True"
      ]
     },
     "execution_count": 32,
     "metadata": {},
     "output_type": "execute_result"
    }
   ],
   "source": [
    "'cat' in spam\n",
    "'cat' in spam.keys()"
   ]
  },
  {
   "cell_type": "markdown",
   "id": "b5eda18a",
   "metadata": {},
   "source": [
    "So both expression is same, try to find out 'cat' key exsist or not in spam dict."
   ]
  },
  {
   "cell_type": "markdown",
   "id": "f6f97e50",
   "metadata": {},
   "source": [
    "## 6. If a dictionary is stored in spam, what is the difference between the expressions &#39;cat&#39; in spam and &#39;cat&#39; in spam.values()?"
   ]
  },
  {
   "cell_type": "markdown",
   "id": "d7f8e6e5",
   "metadata": {},
   "source": [
    "'cat' in spam ==> this exepration will check 'cat' key is exsist or not in spam dist.\n",
    "\n",
    "'cat' in spam.values() ==> this exepration will check, 'cat' str will be exsist or not in dist values list."
   ]
  },
  {
   "cell_type": "markdown",
   "id": "cd23f4a6",
   "metadata": {},
   "source": [
    "## 7. What is a shortcut for the following code?\n",
    "\n",
    "if &#39;color&#39; not in spam:\n",
    "\n",
    "spam[&#39;color&#39;] = &#39;black&#39;"
   ]
  },
  {
   "cell_type": "code",
   "execution_count": 41,
   "id": "03854cf6",
   "metadata": {},
   "outputs": [],
   "source": [
    "if 'color' not in spam.keys():spam['color'] = 'black'"
   ]
  },
  {
   "cell_type": "markdown",
   "id": "efe707fc",
   "metadata": {},
   "source": [
    "## 8. How do you &quot;pretty print&quot; dictionary values using which module and function?"
   ]
  },
  {
   "cell_type": "code",
   "execution_count": 42,
   "id": "d9f764df",
   "metadata": {},
   "outputs": [],
   "source": [
    "import pprint"
   ]
  },
  {
   "cell_type": "code",
   "execution_count": 45,
   "id": "b11f7a50",
   "metadata": {},
   "outputs": [],
   "source": [
    "spam = {\"name\":\"hemraj\",\n",
    "        \"id\":\"23123\",\n",
    "        \"emp_id\":\"aadfdf\"\n",
    "       }"
   ]
  },
  {
   "cell_type": "code",
   "execution_count": 53,
   "id": "6c94538c",
   "metadata": {},
   "outputs": [
    {
     "name": "stdout",
     "output_type": "stream",
     "text": [
      "{'emp_id': 'aadfdf', 'id': '23123', 'name': 'hemraj'}\n"
     ]
    }
   ],
   "source": [
    "pprint.pprint(spam)"
   ]
  },
  {
   "cell_type": "code",
   "execution_count": null,
   "id": "64bd2134",
   "metadata": {},
   "outputs": [],
   "source": []
  },
  {
   "cell_type": "code",
   "execution_count": null,
   "id": "67cdca1a",
   "metadata": {},
   "outputs": [],
   "source": []
  }
 ],
 "metadata": {
  "kernelspec": {
   "display_name": "Python 3 (ipykernel)",
   "language": "python",
   "name": "python3"
  },
  "language_info": {
   "codemirror_mode": {
    "name": "ipython",
    "version": 3
   },
   "file_extension": ".py",
   "mimetype": "text/x-python",
   "name": "python",
   "nbconvert_exporter": "python",
   "pygments_lexer": "ipython3",
   "version": "3.9.7"
  }
 },
 "nbformat": 4,
 "nbformat_minor": 5
}
