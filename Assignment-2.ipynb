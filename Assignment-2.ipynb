{
 "cells": [
  {
   "cell_type": "markdown",
   "id": "1cb150b2",
   "metadata": {},
   "source": [
    "### 1.What are the two values of the Boolean data type? How do you write them?\n",
    "\n",
    "1. True\n",
    "2. False"
   ]
  },
  {
   "cell_type": "markdown",
   "id": "59115730",
   "metadata": {},
   "source": [
    "### 2. What are the three different types of Boolean operators?\n",
    "\n",
    "1. not\n",
    "2. or\n",
    "3. and"
   ]
  },
  {
   "cell_type": "markdown",
   "id": "02e7eeab",
   "metadata": {},
   "source": [
    "### 3. Make a list of each Boolean operator's truth tables (i.e. every possible combination of Boolean values for the operator and what it evaluate ).\n",
    "\n",
    "And Table\n",
    "\n",
    "1,1 => 1\n",
    "1,0 => 0\n",
    "0,1 => 0\n",
    "0,0 => 0\n",
    "\n",
    "Or Table\n",
    "\n",
    "1,1 => 1\n",
    "1,0 => 1\n",
    "0,1 => 1\n",
    "0,0 => 0\n",
    "\n",
    "\n",
    "not Table\n",
    "\n",
    "1 => 0\n",
    "0 => 1\n",
    "\n",
    "\n"
   ]
  },
  {
   "cell_type": "markdown",
   "id": "a2cb363a",
   "metadata": {},
   "source": [
    "### 4. What are the values of the following expressions?\n",
    "\n",
    "(5 > 4) and (3 == 5) ==> False\n",
    "\n",
    "not (5 > 4) ==> False\n",
    "\n",
    "(5 > 4) or (3 == 5) ==> True\n",
    "\n",
    "not ((5 > 4) or (3 == 5)) ==> False\n",
    "\n",
    "(True and True) and (True == False) ==> False\n",
    "\n",
    "(not False) or (not True) ==> True\n"
   ]
  },
  {
   "cell_type": "markdown",
   "id": "8aee055d",
   "metadata": {},
   "source": [
    "### 5. What are the six comparison operators?\n",
    "\n",
    "1. == ==> returns true for operands whose values are equal.\n",
    "2. != ==> returns false if two operands are equal.\n",
    "3. < ==>  defined for all numeric and enumeration types and returns true if the first operand is less than the second operand.\n",
    "4. '>' ==>  defined for all numeric and enumeration types and returns true if the first operand is greater than the second operand.\n",
    "\n",
    "5. <= ==> defined for all numeric and enumeration types and returns true if the first operand is less than or equal to the second operand.\n",
    "\n",
    "6. '>='  ==> defined for all numeric and enumeration types and returns true if the first operand is greater than or equal to the second operand.\n"
   ]
  },
  {
   "cell_type": "markdown",
   "id": "b12dc890",
   "metadata": {},
   "source": [
    "### 6. How do you tell the difference between the equal to and assignment operators? Describe a condition and when you would use one.\n",
    "\n",
    "\n",
    "'==' is use to compare two operands for ex ==> 5 == 5, True == True\n",
    "\n",
    "'=' is use to assign a value in variable ex ==> a = 5, b = 6\n",
    "\n",
    "\n",
    "\n"
   ]
  },
  {
   "cell_type": "markdown",
   "id": "46dc025a",
   "metadata": {},
   "source": [
    "### 7. Identify the three blocks in this code:\n",
    "\n",
    "\n",
    "spam = 0\n",
    "\n",
    "#### Block 1\n",
    "if spam == 10:\n",
    " print('eggs')\n",
    "#### Block 1\n",
    "\n",
    "#### Block 2\n",
    "if spam > 5:\n",
    " print('bacon')\n",
    " #### Block 2\n",
    " #### Block 3\n",
    "else:\n",
    " print('ham')\n",
    "#### Block 3 \n",
    "\n",
    "print('spam')\n",
    "print('spam')\n"
   ]
  },
  {
   "cell_type": "markdown",
   "id": "cfb32f97",
   "metadata": {},
   "source": [
    "### 8. Write code that prints Hello if 1 is stored in spam, prints Howdy if 2 is stored in spam, and prints Greetings! if anything else is stored in spam.\n",
    "\n",
    "spam = 1\n",
    "\n",
    "if spam == 1:\n",
    "    print('Hello')\n",
    "elif spam == 2:\n",
    "    print('Howdy')\n",
    "else:\n",
    "    print('Greetings!,welcome!')\n",
    "    \n",
    "\n"
   ]
  },
  {
   "cell_type": "markdown",
   "id": "d598e774",
   "metadata": {},
   "source": [
    "### 9.If your programme is stuck in an endless loop, what keys you’ll press?\n",
    "\n",
    "1. Ctrl + alt\n"
   ]
  },
  {
   "cell_type": "markdown",
   "id": "49325bfd",
   "metadata": {},
   "source": [
    "### 10. How can you tell the difference between break and continue?\n",
    "\n",
    "## break\n",
    "    It is used to terminate the enclosing loop like while, do-while, for, or switch statement where it is declared.\n",
    "\n",
    "    It resumes control over the program until the end of the loop.\n",
    "\n",
    "    It also helps with the flow of control outside the loop.\n",
    "\n",
    "\n",
    "## continue\n",
    "\n",
    "    It helps skip the remaining part of the loop.\n",
    "\n",
    "    It continues to execute the next iteration.\n",
    "\n",
    "    It causes early execution of the next iteration of the enclosing loop."
   ]
  },
  {
   "cell_type": "markdown",
   "id": "231c7784",
   "metadata": {},
   "source": [
    "### 11. In a for loop, what is the difference between range(10), range(0, 10), and range(0, 10, 1)?\n",
    "\n",
    "all are same, it will give you same O/P\n"
   ]
  },
  {
   "cell_type": "code",
   "execution_count": 19,
   "id": "2d285a43",
   "metadata": {},
   "outputs": [
    {
     "name": "stdout",
     "output_type": "stream",
     "text": [
      "0\n",
      "1\n",
      "2\n",
      "3\n",
      "4\n",
      "5\n",
      "6\n",
      "7\n",
      "8\n",
      "9\n",
      "=====================\n",
      "0\n",
      "1\n",
      "2\n",
      "3\n",
      "4\n",
      "5\n",
      "6\n",
      "7\n",
      "8\n",
      "9\n",
      "=====================\n",
      "0\n",
      "1\n",
      "2\n",
      "3\n",
      "4\n",
      "5\n",
      "6\n",
      "7\n",
      "8\n",
      "9\n"
     ]
    }
   ],
   "source": [
    "for i in range(10):\n",
    "    print(i)\n",
    "\n",
    "print('=====================')    \n",
    "    \n",
    "for i in range(0,10):\n",
    "    print(i)\n",
    "\n",
    "print('=====================')   \n",
    "\n",
    "for i in range(0,10,1):\n",
    "    print(i)\n"
   ]
  },
  {
   "cell_type": "markdown",
   "id": "46151a93",
   "metadata": {},
   "source": [
    "### 12. Write a short program that prints the numbers 1 to 10 using a for loop. Then write an equivalent program that prints the numbers 1 to 10 using a while loop.\n",
    "\n",
    "\n"
   ]
  },
  {
   "cell_type": "code",
   "execution_count": 20,
   "id": "495f4926",
   "metadata": {},
   "outputs": [
    {
     "name": "stdout",
     "output_type": "stream",
     "text": [
      "1\n",
      "2\n",
      "3\n",
      "4\n",
      "5\n",
      "6\n",
      "7\n",
      "8\n",
      "9\n",
      "10\n"
     ]
    }
   ],
   "source": [
    "for i in range(1,11,1):\n",
    "    print(i)"
   ]
  },
  {
   "cell_type": "code",
   "execution_count": 22,
   "id": "68f9701e",
   "metadata": {},
   "outputs": [
    {
     "name": "stdout",
     "output_type": "stream",
     "text": [
      "1\n",
      "2\n",
      "3\n",
      "4\n",
      "5\n",
      "6\n",
      "7\n",
      "8\n",
      "9\n",
      "10\n"
     ]
    }
   ],
   "source": [
    "count = 1;\n",
    "while True:\n",
    "    print(count)\n",
    "    count += 1\n",
    "    if count == 11:\n",
    "        break"
   ]
  },
  {
   "cell_type": "markdown",
   "id": "a93d05de",
   "metadata": {},
   "source": [
    "### 13. If you had a function named bacon() inside a module named spam, how would you call it after importing spam?\n"
   ]
  },
  {
   "cell_type": "code",
   "execution_count": 36,
   "id": "1fde77f4",
   "metadata": {},
   "outputs": [],
   "source": [
    "class Spam: \n",
    "    def bacon(self):\n",
    "        print('hello Hemraj!')\n",
    "        \n"
   ]
  },
  {
   "cell_type": "code",
   "execution_count": 37,
   "id": "05c7449f",
   "metadata": {},
   "outputs": [
    {
     "name": "stdout",
     "output_type": "stream",
     "text": [
      "hello Hemraj!\n"
     ]
    }
   ],
   "source": [
    "Spam().bacon()"
   ]
  },
  {
   "cell_type": "code",
   "execution_count": null,
   "id": "337dc6a4",
   "metadata": {},
   "outputs": [],
   "source": []
  }
 ],
 "metadata": {
  "kernelspec": {
   "display_name": "Python 3 (ipykernel)",
   "language": "python",
   "name": "python3"
  },
  "language_info": {
   "codemirror_mode": {
    "name": "ipython",
    "version": 3
   },
   "file_extension": ".py",
   "mimetype": "text/x-python",
   "name": "python",
   "nbconvert_exporter": "python",
   "pygments_lexer": "ipython3",
   "version": "3.9.7"
  }
 },
 "nbformat": 4,
 "nbformat_minor": 5
}
