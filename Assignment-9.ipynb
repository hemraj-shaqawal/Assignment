{
 "cells": [
  {
   "cell_type": "markdown",
   "id": "b50b35f2",
   "metadata": {},
   "source": [
    "## 1. To what does a relative path refer?"
   ]
  },
  {
   "cell_type": "markdown",
   "id": "b8c8ff34",
   "metadata": {},
   "source": [
    "relative path refer from root of document, it always have partial path insted of full file path, ot will contain . or .. woth respective path.\n",
    "\n",
    "path = \"../test.html\"\n"
   ]
  },
  {
   "cell_type": "markdown",
   "id": "8c518374",
   "metadata": {},
   "source": [
    "## 2. What does an absolute path start with your operating system?"
   ]
  },
  {
   "cell_type": "markdown",
   "id": "322976e8",
   "metadata": {},
   "source": [
    "absolute path => full path of file including a file name\n",
    "\n",
    "for windows it start like this: E:\\xyz\\Class Practice\\Assignment\\test.txt"
   ]
  },
  {
   "cell_type": "markdown",
   "id": "f3aca7dd",
   "metadata": {},
   "source": [
    "## 3. What do the functions os.getcwd() and os.chdir() do?"
   ]
  },
  {
   "cell_type": "code",
   "execution_count": 1,
   "id": "14aa29aa",
   "metadata": {},
   "outputs": [],
   "source": [
    "import os"
   ]
  },
  {
   "cell_type": "markdown",
   "id": "e730893f",
   "metadata": {},
   "source": [
    "os.getcwd() ==> Return a unicode string representing the current working directory.\n",
    "\n",
    "os.chdir(\"D:\\\\Python_Project\\\\Class Practice\") ==> Change the current working directory to the specified path."
   ]
  },
  {
   "cell_type": "markdown",
   "id": "05f5429d",
   "metadata": {},
   "source": [
    "## 4. What are the . and .. folders?"
   ]
  },
  {
   "cell_type": "markdown",
   "id": "ef09c772",
   "metadata": {},
   "source": [
    ".  ==> . stands for current dir\n",
    "\n",
    ".. ==> .. stands for one step back from current dir"
   ]
  },
  {
   "cell_type": "markdown",
   "id": "f4803098",
   "metadata": {},
   "source": [
    "## 5. In C:\\bacon\\eggs\\spam.txt, which part is the dir name, and which part is the base name?"
   ]
  },
  {
   "cell_type": "markdown",
   "id": "f094dc73",
   "metadata": {},
   "source": [
    "C:\\bacon\\eggs\\ will be called as a base name\n",
    "\n",
    "eggs is dir name"
   ]
  },
  {
   "cell_type": "markdown",
   "id": "a07a775c",
   "metadata": {},
   "source": [
    "## 6. What are the three “mode” arguments that can be passed to the open() function?"
   ]
  },
  {
   "cell_type": "markdown",
   "id": "9b3f1e7c",
   "metadata": {},
   "source": [
    "Character Meaning\n",
    "\n",
    "--------- ---------------------------------------------------------------\n",
    "\n",
    "'r'       open for reading (default)\n",
    "\n",
    "'w'       open for writing, truncating the file first\n",
    "\n",
    "'x'       create a new file and open it for writing\n",
    "\n",
    "'a'       open for writing, appending to the end of the file if it exists\n",
    "\n",
    "'b'       binary mode\n",
    "\n",
    "'t'       text mode (default)\n",
    "\n",
    "'+'       open a disk file for updating (reading and writing)\n",
    "\n",
    "'U'       universal newline mode (deprecated)\n",
    "\n",
    "========= ====================================\n",
    "==========================="
   ]
  },
  {
   "cell_type": "markdown",
   "id": "196dbb7c",
   "metadata": {},
   "source": [
    "## 7. What happens if an existing file is opened in write mode?"
   ]
  },
  {
   "cell_type": "markdown",
   "id": "c43ce984",
   "metadata": {},
   "source": [
    "1. We should always close file for preventing a deadlock\n",
    "2. if file don't exsist it wil creta a new one with open file name."
   ]
  },
  {
   "cell_type": "markdown",
   "id": "67667445",
   "metadata": {},
   "source": [
    "## 8. How do you tell the difference between read() and readlines()?"
   ]
  },
  {
   "cell_type": "code",
   "execution_count": 25,
   "id": "2a6cb273",
   "metadata": {},
   "outputs": [
    {
     "name": "stdout",
     "output_type": "stream",
     "text": [
      "WARNING: Discarding https://files.pythonhosted.org/packages/de/86/af346eb13bd936e720ab5ad8ab016299781be14743d09a43e7d3099520d8/Kivy-1.0.5.tar.gz#sha256=757fd238b536faf5c714efefd850638d425658446a0ac203b1794250ceacdf1d (from https://pypi\n",
      ".org/simple/kivy/). Command errored out with exit status 1: python setup.py egg_info Check the logs for full command output.\n",
      "ERROR: Could not find a version that satisfies the requirement kivy (from versions: 1.0.1a0, 1.0.2a0, 1.0.3a0, 1.0.4b0, 1.0.5, 1.0.6, 1.0.7, 1.0.8, 1.0.9, 1.1.0, 1.1.1, 1.2.0, 1.3.0, 1.4.0, 1.4.1, 1.5.0, 1.5.1, 1.6.0, 1.7.0, 1.7.1, 1.7\n",
      ".2, 1.8.0, 1.9.0, 1.9.1, 1.10.0, 1.10.1, 1.11.0rc1, 1.11.0rc2, 1.11.0, 1.11.1, 2.0.0rc1, 2.0.0rc2, 2.0.0rc3, 2.0.0rc4, 2.0.0)\n",
      "ERROR: No matching distribution found for kivy\n",
      "\n",
      "0\n"
     ]
    }
   ],
   "source": [
    "with open(\"D:\\\\Python_Project\\\\task_for_290122.txt\",\"r+\") as f:\n",
    "    print(f.read())\n",
    "    l = f.readlines()\n",
    "    print(len(l))\n",
    "    f.readline()"
   ]
  },
  {
   "cell_type": "markdown",
   "id": "710af8dd",
   "metadata": {},
   "source": [
    "    so it's clear form above example read will return a whole file of data in one shot where with readlins, it will return a list of data based on new line"
   ]
  },
  {
   "cell_type": "markdown",
   "id": "fe30a97c",
   "metadata": {},
   "source": [
    "## 9. What data structure does a shelf value resemble?"
   ]
  },
  {
   "cell_type": "markdown",
   "id": "a1934a1d",
   "metadata": {},
   "source": [
    "store the key-value data in the form of the hashtable"
   ]
  },
  {
   "cell_type": "code",
   "execution_count": 30,
   "id": "d151742f",
   "metadata": {},
   "outputs": [],
   "source": [
    "import shelve\n",
    "sh = shelve.open(\"student\")\n",
    "sh['name'] = \"Prachee\"\n",
    "sh['age'] = 21\n",
    "sh['marks'] = 95\n",
    "sh.close()"
   ]
  },
  {
   "cell_type": "code",
   "execution_count": 31,
   "id": "33b24ce3",
   "metadata": {},
   "outputs": [
    {
     "data": {
      "text/plain": [
       "21"
      ]
     },
     "execution_count": 31,
     "metadata": {},
     "output_type": "execute_result"
    }
   ],
   "source": [
    "sh=shelve.open('student')\n",
    "sh['age']"
   ]
  },
  {
   "cell_type": "code",
   "execution_count": 32,
   "id": "705ad835",
   "metadata": {},
   "outputs": [
    {
     "data": {
      "text/plain": [
       "'D:\\\\Python_Project'"
      ]
     },
     "execution_count": 32,
     "metadata": {},
     "output_type": "execute_result"
    }
   ],
   "source": [
    "os.getcwd()"
   ]
  },
  {
   "cell_type": "code",
   "execution_count": null,
   "id": "7e7e917b",
   "metadata": {},
   "outputs": [],
   "source": []
  }
 ],
 "metadata": {
  "kernelspec": {
   "display_name": "Python 3 (ipykernel)",
   "language": "python",
   "name": "python3"
  },
  "language_info": {
   "codemirror_mode": {
    "name": "ipython",
    "version": 3
   },
   "file_extension": ".py",
   "mimetype": "text/x-python",
   "name": "python",
   "nbconvert_exporter": "python",
   "pygments_lexer": "ipython3",
   "version": "3.9.7"
  }
 },
 "nbformat": 4,
 "nbformat_minor": 5
}
