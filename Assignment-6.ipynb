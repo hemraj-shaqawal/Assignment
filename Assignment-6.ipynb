{
 "cells": [
  {
   "cell_type": "markdown",
   "id": "25465adc",
   "metadata": {},
   "source": [
    "## 1. What are escape characters, and how do you use them?"
   ]
  },
  {
   "cell_type": "markdown",
   "id": "2e627b4f",
   "metadata": {},
   "source": [
    "To insert characters that are illegal in a string, use an escape character.i.e  in below exanple we \\ befour '\"' just to to include in string. \n"
   ]
  },
  {
   "cell_type": "code",
   "execution_count": 3,
   "id": "36acda71",
   "metadata": {},
   "outputs": [
    {
     "name": "stdout",
     "output_type": "stream",
     "text": [
      "dummy \"text\"\n"
     ]
    }
   ],
   "source": [
    "txt = \"dummy \\\"text\\\" \"\n",
    "print(txt)\n"
   ]
  },
  {
   "cell_type": "markdown",
   "id": "649c55d0",
   "metadata": {},
   "source": [
    "## 2. What do the escape characters n and t stand for?"
   ]
  },
  {
   "cell_type": "markdown",
   "id": "eb468e20",
   "metadata": {},
   "source": [
    "\\n will be use for move to in next line.\n",
    "\n",
    "\\t will be use to add tab space in string."
   ]
  },
  {
   "cell_type": "markdown",
   "id": "2b02bcf2",
   "metadata": {},
   "source": [
    "## 3. What is the way to include backslash characters in a string?"
   ]
  },
  {
   "cell_type": "code",
   "execution_count": 21,
   "id": "f199202e",
   "metadata": {},
   "outputs": [
    {
     "data": {
      "text/plain": [
       "'my name is hemraj \\\\'"
      ]
     },
     "execution_count": 21,
     "metadata": {},
     "output_type": "execute_result"
    }
   ],
   "source": [
    "txt  = \"my name is hemraj \\\\\"\n",
    "txt"
   ]
  },
  {
   "cell_type": "markdown",
   "id": "dae360b7",
   "metadata": {},
   "source": [
    "## 4. The string &quot;Howl&#39;s Moving Castle&quot; is a correct value. Why isn&#39;t the single quote character in the word Howl&#39;s not escaped a problem?"
   ]
  },
  {
   "cell_type": "code",
   "execution_count": 22,
   "id": "ace45855",
   "metadata": {},
   "outputs": [],
   "source": [
    "txt = \"Howl's Moving Castle\""
   ]
  },
  {
   "cell_type": "markdown",
   "id": "db3d0aa8",
   "metadata": {},
   "source": [
    "Ans: escape will not come into picture because we have given ' quout in between \"\" so will a valid string."
   ]
  },
  {
   "cell_type": "markdown",
   "id": "f6ab5f7a",
   "metadata": {},
   "source": [
    "## 5 How do you write a string of newlines if you don&#39;t want to use the n character?"
   ]
  },
  {
   "cell_type": "code",
   "execution_count": 42,
   "id": "c1666f1f",
   "metadata": {},
   "outputs": [],
   "source": [
    "stringtowrite = \"\"\"my \n",
    "name \n",
    "id \n",
    "hemraj.\"\"\""
   ]
  },
  {
   "cell_type": "code",
   "execution_count": 43,
   "id": "36d74082",
   "metadata": {},
   "outputs": [
    {
     "name": "stdout",
     "output_type": "stream",
     "text": [
      "my \n",
      "name \n",
      "id \n",
      "hemraj.\n"
     ]
    }
   ],
   "source": [
    "print(stringtowrite)"
   ]
  },
  {
   "cell_type": "markdown",
   "id": "015ed8fc",
   "metadata": {},
   "source": [
    "so that using multiple line string we achieve newline string."
   ]
  },
  {
   "cell_type": "markdown",
   "id": "1e5bccce",
   "metadata": {},
   "source": [
    "## 6. What are the values of the given expressions?\n",
    "\n",
    "&#39;Hello, world!&#39;[1]\n",
    "\n",
    "&#39;Hello, world!&#39;[0:5]\n",
    "\n",
    "&#39;Hello, world!&#39;[:5]\n",
    "\n",
    "&#39;Hello, world!&#39;[3:]\n"
   ]
  },
  {
   "cell_type": "code",
   "execution_count": 45,
   "id": "310849c6",
   "metadata": {},
   "outputs": [
    {
     "data": {
      "text/plain": [
       "'e'"
      ]
     },
     "execution_count": 45,
     "metadata": {},
     "output_type": "execute_result"
    }
   ],
   "source": [
    "'Hello, world!'[1]"
   ]
  },
  {
   "cell_type": "markdown",
   "id": "44d74116",
   "metadata": {},
   "source": [
    "o/p: e => it will print char which will present at 1 index."
   ]
  },
  {
   "cell_type": "code",
   "execution_count": 46,
   "id": "d19c3577",
   "metadata": {},
   "outputs": [
    {
     "data": {
      "text/plain": [
       "'Hello'"
      ]
     },
     "execution_count": 46,
     "metadata": {},
     "output_type": "execute_result"
    }
   ],
   "source": [
    "'Hello, world!'[0:5]"
   ]
  },
  {
   "cell_type": "markdown",
   "id": "f03d4a18",
   "metadata": {},
   "source": [
    "o/p: 'Hello' => it will print string from 0 to 4 index, 5th index will be exclude"
   ]
  },
  {
   "cell_type": "code",
   "execution_count": 47,
   "id": "b78e36de",
   "metadata": {},
   "outputs": [
    {
     "data": {
      "text/plain": [
       "'Hello'"
      ]
     },
     "execution_count": 47,
     "metadata": {},
     "output_type": "execute_result"
    }
   ],
   "source": [
    "'Hello, world!'[:5]"
   ]
  },
  {
   "cell_type": "markdown",
   "id": "ebbf5c52",
   "metadata": {},
   "source": [
    "o/p: 'Hello' => it will print string from 0 to 4 index, 5th index will be exclude"
   ]
  },
  {
   "cell_type": "code",
   "execution_count": 48,
   "id": "ea4cc151",
   "metadata": {},
   "outputs": [
    {
     "data": {
      "text/plain": [
       "'lo, world!'"
      ]
     },
     "execution_count": 48,
     "metadata": {},
     "output_type": "execute_result"
    }
   ],
   "source": [
    "'Hello, world!'[3:]"
   ]
  },
  {
   "cell_type": "markdown",
   "id": "ef263ca0",
   "metadata": {},
   "source": [
    "o/p: 'lo, world!' => it will print string from 3 to end index."
   ]
  },
  {
   "cell_type": "markdown",
   "id": "13d3afaf",
   "metadata": {},
   "source": [
    "## 7. What are the values of the following expressions?\n",
    "\n",
    "&#39;Hello&#39;.upper()\n",
    "\n",
    "&#39;Hello&#39;.upper().isupper()\n",
    "\n",
    "&#39;Hello&#39;.upper().lower()"
   ]
  },
  {
   "cell_type": "code",
   "execution_count": 52,
   "id": "b81ea6a5",
   "metadata": {},
   "outputs": [
    {
     "data": {
      "text/plain": [
       "'HELLO'"
      ]
     },
     "execution_count": 52,
     "metadata": {},
     "output_type": "execute_result"
    }
   ],
   "source": [
    "'Hello'.upper()"
   ]
  },
  {
   "cell_type": "markdown",
   "id": "32bd905f",
   "metadata": {},
   "source": [
    "upper method will be use to convert string into upper case.\n"
   ]
  },
  {
   "cell_type": "code",
   "execution_count": 50,
   "id": "7dfe7531",
   "metadata": {},
   "outputs": [
    {
     "data": {
      "text/plain": [
       "True"
      ]
     },
     "execution_count": 50,
     "metadata": {},
     "output_type": "execute_result"
    }
   ],
   "source": [
    "'Hello'.upper().isupper()"
   ]
  },
  {
   "cell_type": "markdown",
   "id": "ac7dc88e",
   "metadata": {},
   "source": [
    "isupper() will check string is in upper case or not, base on that will return true/false"
   ]
  },
  {
   "cell_type": "code",
   "execution_count": 51,
   "id": "d291d624",
   "metadata": {},
   "outputs": [
    {
     "data": {
      "text/plain": [
       "'hello'"
      ]
     },
     "execution_count": 51,
     "metadata": {},
     "output_type": "execute_result"
    }
   ],
   "source": [
    "'Hello'.upper().lower()"
   ]
  },
  {
   "cell_type": "markdown",
   "id": "9a8bd599",
   "metadata": {},
   "source": [
    ".lower()  will convert string in lower case."
   ]
  },
  {
   "cell_type": "markdown",
   "id": "3a1d2817",
   "metadata": {},
   "source": [
    "## 8. What are the values of the following expressions?\n",
    "&#39;Remember, remember, the fifth of July.&#39;.split()\n",
    "&#39;-&#39;.join(&#39;There can only one.&#39;.split())"
   ]
  },
  {
   "cell_type": "code",
   "execution_count": 59,
   "id": "4d2d8b58",
   "metadata": {},
   "outputs": [
    {
     "data": {
      "text/plain": [
       "['Remember,', 'remember,', 'the', 'fifth', 'of', 'July.']"
      ]
     },
     "execution_count": 59,
     "metadata": {},
     "output_type": "execute_result"
    }
   ],
   "source": [
    "'Remember, remember, the fifth of July.'.split()"
   ]
  },
  {
   "cell_type": "markdown",
   "id": "7e059c41",
   "metadata": {},
   "source": [
    "split() will split a string with whitespace and return a list of it."
   ]
  },
  {
   "cell_type": "code",
   "execution_count": 62,
   "id": "bb13cfc0",
   "metadata": {},
   "outputs": [
    {
     "data": {
      "text/plain": [
       "'There-can-only-one.'"
      ]
     },
     "execution_count": 62,
     "metadata": {},
     "output_type": "execute_result"
    }
   ],
   "source": [
    "'-'.join('There can only one.'.split())"
   ]
  },
  {
   "cell_type": "markdown",
   "id": "406c4d58",
   "metadata": {},
   "source": [
    "join will append a list item as per given char."
   ]
  },
  {
   "cell_type": "markdown",
   "id": "735db6ed",
   "metadata": {},
   "source": [
    "## 9. What are the methods for right-justifying, left-justifying, and centering a string?"
   ]
  },
  {
   "cell_type": "code",
   "execution_count": 65,
   "id": "d79f902f",
   "metadata": {},
   "outputs": [
    {
     "data": {
      "text/plain": [
       "'my name is hemraj-----------------------'"
      ]
     },
     "execution_count": 65,
     "metadata": {},
     "output_type": "execute_result"
    }
   ],
   "source": [
    "\"my name is hemraj\".ljust(40,\"-\")\n"
   ]
  },
  {
   "cell_type": "code",
   "execution_count": 68,
   "id": "79da5992",
   "metadata": {},
   "outputs": [
    {
     "data": {
      "text/plain": [
       "'-----------------------my name is hemraj'"
      ]
     },
     "execution_count": 68,
     "metadata": {},
     "output_type": "execute_result"
    }
   ],
   "source": [
    "\"my name is hemraj\".rjust(40,\"-\")\n"
   ]
  },
  {
   "cell_type": "code",
   "execution_count": 67,
   "id": "bae159c5",
   "metadata": {},
   "outputs": [
    {
     "data": {
      "text/plain": [
       "'-----------my name is hemraj------------'"
      ]
     },
     "execution_count": 67,
     "metadata": {},
     "output_type": "execute_result"
    }
   ],
   "source": [
    "\"my name is hemraj\".center(40,\"-\")"
   ]
  },
  {
   "cell_type": "markdown",
   "id": "b90475d7",
   "metadata": {},
   "source": [
    "## 10. What is the best way to remove whitespace characters from the start or end?"
   ]
  },
  {
   "cell_type": "code",
   "execution_count": 70,
   "id": "9473988d",
   "metadata": {},
   "outputs": [
    {
     "data": {
      "text/plain": [
       "'my name is hemraj'"
      ]
     },
     "execution_count": 70,
     "metadata": {},
     "output_type": "execute_result"
    }
   ],
   "source": [
    "\"        my name is hemraj             \".strip()"
   ]
  },
  {
   "cell_type": "markdown",
   "id": "a56b4009",
   "metadata": {},
   "source": [
    "with strip method we can remove start and end white space."
   ]
  },
  {
   "cell_type": "code",
   "execution_count": null,
   "id": "011d8de3",
   "metadata": {},
   "outputs": [],
   "source": []
  }
 ],
 "metadata": {
  "kernelspec": {
   "display_name": "Python 3 (ipykernel)",
   "language": "python",
   "name": "python3"
  },
  "language_info": {
   "codemirror_mode": {
    "name": "ipython",
    "version": 3
   },
   "file_extension": ".py",
   "mimetype": "text/x-python",
   "name": "python",
   "nbconvert_exporter": "python",
   "pygments_lexer": "ipython3",
   "version": "3.9.7"
  }
 },
 "nbformat": 4,
 "nbformat_minor": 5
}
