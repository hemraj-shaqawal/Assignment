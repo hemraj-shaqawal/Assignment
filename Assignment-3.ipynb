{
 "cells": [
  {
   "cell_type": "markdown",
   "id": "72a01660",
   "metadata": {},
   "source": [
    "## 1. Why are functions advantageous to have in your programs?"
   ]
  },
  {
   "cell_type": "markdown",
   "id": "e2bae8f1",
   "metadata": {},
   "source": [
    "Ans: 1.) increase code readability and useablity \n",
    "\n",
    " 2.) create a one time, use manytime as you want"
   ]
  },
  {
   "cell_type": "markdown",
   "id": "9522723e",
   "metadata": {},
   "source": [
    "## 2. When does the code in a function run: when it&#39;s specified or when it&#39;s called?"
   ]
  },
  {
   "cell_type": "markdown",
   "id": "bf3acc46",
   "metadata": {},
   "source": [
    "fuction code will run when we called it"
   ]
  },
  {
   "cell_type": "markdown",
   "id": "f093dea8",
   "metadata": {},
   "source": [
    "## 3. What statement creates a function?"
   ]
  },
  {
   "cell_type": "markdown",
   "id": "17816da4",
   "metadata": {},
   "source": [
    "def function_name():\n",
    "\n",
    "    you business logic"
   ]
  },
  {
   "cell_type": "markdown",
   "id": "75a87f53",
   "metadata": {},
   "source": [
    "## 4. What is the difference between a function and a function call?"
   ]
  },
  {
   "cell_type": "markdown",
   "id": "ed3a948c",
   "metadata": {},
   "source": [
    "function will use to solve any short problem statement, where if we want to use function at any point of time we have to call it first."
   ]
  },
  {
   "cell_type": "markdown",
   "id": "0777f580",
   "metadata": {},
   "source": [
    "## 5. How many global scopes are there in a Python program? How many local scopes?"
   ]
  },
  {
   "cell_type": "markdown",
   "id": "a1813e43",
   "metadata": {},
   "source": [
    "We have 1 global scope and 1 local scope in python"
   ]
  },
  {
   "cell_type": "markdown",
   "id": "ec486a19",
   "metadata": {},
   "source": [
    "## 6. What happens to variables in a local scope when the function call returns?"
   ]
  },
  {
   "cell_type": "markdown",
   "id": "1b727e3b",
   "metadata": {},
   "source": [
    "it will be distroyed by GC after function call return."
   ]
  },
  {
   "cell_type": "markdown",
   "id": "a54d0722",
   "metadata": {},
   "source": [
    "## 7. What is the concept of a return value? Is it possible to have a return value in an expression?"
   ]
  },
  {
   "cell_type": "markdown",
   "id": "fe468338",
   "metadata": {},
   "source": [
    "if we want to use output of any function in any other place to perforn any short of business login on that for that we using return statement in the function so we can use it further.\n",
    "\n",
    "we can't return a expression to fucntion, we can return either None, primitive and non primitive data "
   ]
  },
  {
   "cell_type": "markdown",
   "id": "87f58aaa",
   "metadata": {},
   "source": [
    "## 8. If a function does not have a return statement, what is the return value of a call to that function?"
   ]
  },
  {
   "cell_type": "markdown",
   "id": "03161b8c",
   "metadata": {},
   "source": [
    "NoneType"
   ]
  },
  {
   "cell_type": "code",
   "execution_count": 7,
   "id": "d61552cc",
   "metadata": {},
   "outputs": [],
   "source": [
    "def test():\n",
    "    print(\"Hello\")"
   ]
  },
  {
   "cell_type": "code",
   "execution_count": 8,
   "id": "c33177da",
   "metadata": {},
   "outputs": [
    {
     "name": "stdout",
     "output_type": "stream",
     "text": [
      "Hello\n"
     ]
    },
    {
     "data": {
      "text/plain": [
       "NoneType"
      ]
     },
     "execution_count": 8,
     "metadata": {},
     "output_type": "execute_result"
    }
   ],
   "source": [
    "type(test())"
   ]
  },
  {
   "cell_type": "markdown",
   "id": "b215024a",
   "metadata": {},
   "source": [
    "## 9. How do you make a function variable refer to the global variable?"
   ]
  },
  {
   "cell_type": "markdown",
   "id": "03a92c19",
   "metadata": {},
   "source": [
    "using a self we can make it.\n"
   ]
  },
  {
   "cell_type": "markdown",
   "id": "caf3d4d5",
   "metadata": {},
   "source": [
    "## 10. What is the data type of None?"
   ]
  },
  {
   "cell_type": "code",
   "execution_count": 10,
   "id": "214fc6e0",
   "metadata": {},
   "outputs": [
    {
     "data": {
      "text/plain": [
       "NoneType"
      ]
     },
     "execution_count": 10,
     "metadata": {},
     "output_type": "execute_result"
    }
   ],
   "source": [
    "type(None)"
   ]
  },
  {
   "cell_type": "markdown",
   "id": "70c40474",
   "metadata": {},
   "source": [
    "## 11. What does the sentence import areallyourpetsnamederic do?'``"
   ]
  },
  {
   "cell_type": "markdown",
   "id": "d543649c",
   "metadata": {},
   "source": [
    "not able to understand"
   ]
  },
  {
   "cell_type": "markdown",
   "id": "b37e95d9",
   "metadata": {},
   "source": [
    "## 12. If you had a bacon() feature in a spam module, what would you call it after importing spam?\n"
   ]
  },
  {
   "cell_type": "markdown",
   "id": "7729c28d",
   "metadata": {},
   "source": [
    "import spam\n",
    "\n",
    "spam.bacon()\n"
   ]
  },
  {
   "cell_type": "markdown",
   "id": "e844ddd9",
   "metadata": {},
   "source": [
    "## 13. What can you do to save a programme from crashing if it encounters an error?"
   ]
  },
  {
   "cell_type": "markdown",
   "id": "e6b1d32d",
   "metadata": {},
   "source": [
    "I can use exception handing"
   ]
  },
  {
   "cell_type": "markdown",
   "id": "b4f1d477",
   "metadata": {},
   "source": [
    "## 14. What is the purpose of the try clause? What is the purpose of the except clause?"
   ]
  },
  {
   "cell_type": "markdown",
   "id": "ce09c33a",
   "metadata": {},
   "source": [
    "try block use to handel error code, whenever error come inside try block it throw exception in except block whereever we can provide soluion to that or debug.\n",
    "\n",
    "try and except block is use for error handlinf so that our program flow won't break in between of execution."
   ]
  },
  {
   "cell_type": "code",
   "execution_count": null,
   "id": "5ed63a86",
   "metadata": {},
   "outputs": [],
   "source": []
  }
 ],
 "metadata": {
  "kernelspec": {
   "display_name": "Python 3 (ipykernel)",
   "language": "python",
   "name": "python3"
  },
  "language_info": {
   "codemirror_mode": {
    "name": "ipython",
    "version": 3
   },
   "file_extension": ".py",
   "mimetype": "text/x-python",
   "name": "python",
   "nbconvert_exporter": "python",
   "pygments_lexer": "ipython3",
   "version": "3.9.7"
  }
 },
 "nbformat": 4,
 "nbformat_minor": 5
}
