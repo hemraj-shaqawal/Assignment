{
 "cells": [
  {
   "cell_type": "markdown",
   "id": "653f72ea",
   "metadata": {},
   "source": [
    "# question 1\n",
    "\n",
    "###  1. In the below elements which of them are values or an expression? eg:- values can be\n",
    "###  integer or string and expressions will be mathematical operators.\n",
    "###  * => this will be conseder as an expression.\n",
    "\n",
    "### 'hello' => this will be conseder as a value.\n",
    "\n",
    "###  -87.8 => this will be conseder as a value.\n",
    "\n",
    "###  - => this will be conseder as an expression.\n",
    "\n",
    "###  / => this will be conseder as an expression.\n",
    "\n",
    "###  + => this will be conseder as an expression.\n",
    "\n",
    "###  6 => this will be conseder as a value.\n"
   ]
  },
  {
   "cell_type": "code",
   "execution_count": null,
   "id": "707f4008",
   "metadata": {},
   "outputs": [],
   "source": [
    "\n"
   ]
  },
  {
   "cell_type": "markdown",
   "id": "d4f935eb",
   "metadata": {},
   "source": [
    "### 2. What is the difference between string and variable?\n",
    "\n",
    "string is datatype and variable is refrence, which will hold the any kind of value so that we can use it perform any kind of operation using that."
   ]
  },
  {
   "cell_type": "code",
   "execution_count": null,
   "id": "63f1f930",
   "metadata": {},
   "outputs": [],
   "source": []
  },
  {
   "cell_type": "markdown",
   "id": "c36cfb64",
   "metadata": {},
   "source": [
    "### 3. Describe three different data types.\n",
    "\n",
    "int: int stands to intiger, which will reffer to without fraction or desimal number. for ex: 1,2,3,245345,345,-2,-2342\n",
    "float: float will represent to decimal number. for ex: 4.2,0.3124,-123.13 \n",
    "str: str is text type data type, which will use to hold string type value, for ex: 'hello','hemraj shaqawal'"
   ]
  },
  {
   "cell_type": "code",
   "execution_count": null,
   "id": "06e30794",
   "metadata": {},
   "outputs": [],
   "source": []
  },
  {
   "cell_type": "markdown",
   "id": "cd384515",
   "metadata": {},
   "source": [
    "### 4. What is an expression made up of? What do all expressions do?\n",
    "As per question 1, expression stands for arthematic operators, using that we can do addition,subtration,divition,multiple and many more things."
   ]
  },
  {
   "cell_type": "code",
   "execution_count": null,
   "id": "6f958813",
   "metadata": {},
   "outputs": [],
   "source": []
  },
  {
   "cell_type": "markdown",
   "id": "6c6ae8c8",
   "metadata": {},
   "source": [
    "### 5. This assignment statements, like spam = 10. What is the difference between an expression and a statement?\n",
    "\n",
    "Expression stands for arthematic operators, using that we can do addition,subtration,divition,multiple and many more things.\n",
    "\n",
    "Statement means whatever can write which can unserstand by python interpratpor is called statement for example: spam = 10\n"
   ]
  },
  {
   "cell_type": "code",
   "execution_count": null,
   "id": "352bd652",
   "metadata": {},
   "outputs": [],
   "source": []
  },
  {
   "cell_type": "markdown",
   "id": "e4fdc9cc",
   "metadata": {},
   "source": [
    "## 6. After running the following code, what does the variable bacon contain?\n",
    "bacon = 22\n",
    "bacon + 1\n",
    "\n",
    "bacon will contain:22"
   ]
  },
  {
   "cell_type": "code",
   "execution_count": null,
   "id": "2efda47c",
   "metadata": {},
   "outputs": [],
   "source": []
  },
  {
   "cell_type": "markdown",
   "id": "60723197",
   "metadata": {},
   "source": [
    "### 7. What should the values of the following two terms be?\n",
    "'spam' + 'spamspam'\n",
    "'spam' * 3\n",
    "\n",
    "output:\n",
    "'spamspamspam'"
   ]
  },
  {
   "cell_type": "code",
   "execution_count": 2,
   "id": "1b2d4240",
   "metadata": {},
   "outputs": [
    {
     "data": {
      "text/plain": [
       "'spamspamspam'"
      ]
     },
     "execution_count": 2,
     "metadata": {},
     "output_type": "execute_result"
    }
   ],
   "source": []
  },
  {
   "cell_type": "code",
   "execution_count": null,
   "id": "3766c57a",
   "metadata": {},
   "outputs": [],
   "source": []
  },
  {
   "cell_type": "markdown",
   "id": "b68019ef",
   "metadata": {},
   "source": [
    "### 8. Why is eggs a valid variable name while 100 is invalid?\n",
    "\n",
    "because int is not allowed to be given as variable name"
   ]
  },
  {
   "cell_type": "code",
   "execution_count": null,
   "id": "fd3efd82",
   "metadata": {},
   "outputs": [],
   "source": []
  },
  {
   "cell_type": "markdown",
   "id": "56fd5091",
   "metadata": {},
   "source": [
    "## 9. What three functions can be used to get the integer, floating-point number, or string version of a value?\n",
    "\n",
    "Answer:-\n",
    "\n",
    "int(50),  \n",
    "float(45),  \n",
    "str('hemraj shaqawal')"
   ]
  },
  {
   "cell_type": "code",
   "execution_count": null,
   "id": "7dfbb63b",
   "metadata": {},
   "outputs": [],
   "source": []
  },
  {
   "cell_type": "markdown",
   "id": "6decbf28",
   "metadata": {},
   "source": [
    "## 10. Why does this expression cause an error? How can you fix it?\n",
    "'I have eaten ' + 99 + ' burritos.'"
   ]
  },
  {
   "cell_type": "code",
   "execution_count": 3,
   "id": "6fb953fa",
   "metadata": {},
   "outputs": [
    {
     "data": {
      "text/plain": [
       "'I have eaten 99 burritos.'"
      ]
     },
     "execution_count": 3,
     "metadata": {},
     "output_type": "execute_result"
    }
   ],
   "source": [
    " 'I have eaten ' + '99' + ' burritos.'"
   ]
  },
  {
   "cell_type": "code",
   "execution_count": null,
   "id": "ddadb1d6",
   "metadata": {},
   "outputs": [],
   "source": []
  },
  {
   "cell_type": "code",
   "execution_count": null,
   "id": "7d72d2c3",
   "metadata": {},
   "outputs": [],
   "source": []
  },
  {
   "cell_type": "code",
   "execution_count": null,
   "id": "730e2953",
   "metadata": {},
   "outputs": [],
   "source": []
  }
 ],
 "metadata": {
  "kernelspec": {
   "display_name": "Python 3 (ipykernel)",
   "language": "python",
   "name": "python3"
  },
  "language_info": {
   "codemirror_mode": {
    "name": "ipython",
    "version": 3
   },
   "file_extension": ".py",
   "mimetype": "text/x-python",
   "name": "python",
   "nbconvert_exporter": "python",
   "pygments_lexer": "ipython3",
   "version": "3.9.7"
  }
 },
 "nbformat": 4,
 "nbformat_minor": 5
}
